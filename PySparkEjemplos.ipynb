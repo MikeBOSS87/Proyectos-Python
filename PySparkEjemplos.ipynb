{
 "cells": [
  {
   "cell_type": "code",
   "execution_count": 1,
   "metadata": {},
   "outputs": [
    {
     "name": "stdout",
     "output_type": "stream",
     "text": [
      "Requirement already satisfied: pyspark in c:\\users\\chief\\appdata\\local\\programs\\python\\python39\\lib\\site-packages (3.3.2)\n",
      "Requirement already satisfied: findspark in c:\\users\\chief\\appdata\\local\\programs\\python\\python39\\lib\\site-packages (2.0.1)\n",
      "Requirement already satisfied: pandas in c:\\users\\chief\\appdata\\local\\programs\\python\\python39\\lib\\site-packages (1.5.3)\n",
      "Requirement already satisfied: py4j==0.10.9.5 in c:\\users\\chief\\appdata\\local\\programs\\python\\python39\\lib\\site-packages (from pyspark) (0.10.9.5)\n",
      "Requirement already satisfied: python-dateutil>=2.8.1 in c:\\users\\chief\\appdata\\roaming\\python\\python39\\site-packages (from pandas) (2.8.2)\n",
      "Requirement already satisfied: pytz>=2020.1 in c:\\users\\chief\\appdata\\local\\programs\\python\\python39\\lib\\site-packages (from pandas) (2022.7.1)\n",
      "Requirement already satisfied: numpy>=1.20.3 in c:\\users\\chief\\appdata\\local\\programs\\python\\python39\\lib\\site-packages (from pandas) (1.24.2)\n",
      "Requirement already satisfied: six>=1.5 in c:\\users\\chief\\appdata\\roaming\\python\\python39\\site-packages (from python-dateutil>=2.8.1->pandas) (1.16.0)\n",
      "Note: you may need to restart the kernel to use updated packages.\n"
     ]
    },
    {
     "name": "stderr",
     "output_type": "stream",
     "text": [
      "WARNING: You are using pip version 21.1.3; however, version 23.0.1 is available.\n",
      "You should consider upgrading via the 'c:\\Users\\chief\\AppData\\Local\\Programs\\Python\\Python39\\python.exe -m pip install --upgrade pip' command.\n"
     ]
    }
   ],
   "source": [
    "pip install pyspark findspark pandas"
   ]
  },
  {
   "cell_type": "code",
   "execution_count": 6,
   "metadata": {},
   "outputs": [],
   "source": [
    "import findspark \n",
    "from pyspark.sql import SparkSession\n",
    "from pyspark.sql.types import StructType, StructField, IntegerType, StringType"
   ]
  },
  {
   "cell_type": "code",
   "execution_count": 8,
   "metadata": {},
   "outputs": [],
   "source": [
    "findspark.init() ;\n",
    "spk = SparkSession.builder.appName( \"PoblacionDF\" )\\\n",
    "    .config( \"spark.master\", \"local[2]\" )\\\n",
    "    .config( \"spark.shuffle.sql.partitions\", 2 )\\\n",
    "    .config( \"org.apache.spark.sql.csv\" )\\\n",
    "    .getOrCreate()"
   ]
  },
  {
   "cell_type": "code",
   "execution_count": 9,
   "metadata": {},
   "outputs": [
    {
     "data": {
      "text/html": [
       "\n",
       "            <div>\n",
       "                <p><b>SparkSession - in-memory</b></p>\n",
       "                \n",
       "        <div>\n",
       "            <p><b>SparkContext</b></p>\n",
       "\n",
       "            <p><a href=\"http://MDRG-EIA3CSOU:4040\">Spark UI</a></p>\n",
       "\n",
       "            <dl>\n",
       "              <dt>Version</dt>\n",
       "                <dd><code>v3.3.1</code></dd>\n",
       "              <dt>Master</dt>\n",
       "                <dd><code>local[2]</code></dd>\n",
       "              <dt>AppName</dt>\n",
       "                <dd><code>PoblacionDF</code></dd>\n",
       "            </dl>\n",
       "        </div>\n",
       "        \n",
       "            </div>\n",
       "        "
      ],
      "text/plain": [
       "<pyspark.sql.session.SparkSession at 0x28eab983070>"
      ]
     },
     "execution_count": 9,
     "metadata": {},
     "output_type": "execute_result"
    }
   ],
   "source": [
    "spk"
   ]
  },
  {
   "cell_type": "code",
   "execution_count": 10,
   "metadata": {},
   "outputs": [
    {
     "data": {
      "text/plain": [
       "'2'"
      ]
     },
     "execution_count": 10,
     "metadata": {},
     "output_type": "execute_result"
    }
   ],
   "source": [
    "spk.conf.get( 'spark.shuffle.sql.partitions' )\n",
    "#spk.conf.set( 'spark.shuffle.sql.partitions', 4 )"
   ]
  },
  {
   "cell_type": "code",
   "execution_count": 11,
   "metadata": {},
   "outputs": [
    {
     "name": "stdout",
     "output_type": "stream",
     "text": [
      "root\n",
      " |-- FCCURP: string (nullable = true)\n",
      " |-- FCRFC: string (nullable = true)\n",
      " |-- FCNOMBRES: string (nullable = true)\n",
      " |-- FCPATERNO: string (nullable = true)\n",
      " |-- FCMATERNO: string (nullable = true)\n",
      " |-- FDFECHANACIMIENTO: string (nullable = true)\n",
      " |-- FCEDO_19: string (nullable = true)\n",
      " |-- FCLOC_19: string (nullable = true)\n",
      " |-- FCCOL_19: string (nullable = true)\n",
      " |-- FCULT_EDO_RES: string (nullable = true)\n",
      "\n"
     ]
    }
   ],
   "source": [
    "df = spk.read.csv( \"C:/Users/chief/Documents/POBLACION_DF.csv\", sep = \"|\", header = True, encoding = \"Windows-1252\" )\n",
    "df.printSchema()"
   ]
  },
  {
   "cell_type": "code",
   "execution_count": 12,
   "metadata": {},
   "outputs": [
    {
     "data": {
      "text/plain": [
       "9164959"
      ]
     },
     "execution_count": 12,
     "metadata": {},
     "output_type": "execute_result"
    }
   ],
   "source": [
    "df.count()"
   ]
  },
  {
   "cell_type": "code",
   "execution_count": 13,
   "metadata": {},
   "outputs": [
    {
     "data": {
      "text/plain": [
       "['FCCURP',\n",
       " 'FCRFC',\n",
       " 'FCNOMBRES',\n",
       " 'FCPATERNO',\n",
       " 'FCMATERNO',\n",
       " 'FDFECHANACIMIENTO',\n",
       " 'FCEDO_19',\n",
       " 'FCLOC_19',\n",
       " 'FCCOL_19',\n",
       " 'FCULT_EDO_RES']"
      ]
     },
     "execution_count": 13,
     "metadata": {},
     "output_type": "execute_result"
    }
   ],
   "source": [
    "df.columns"
   ]
  },
  {
   "cell_type": "code",
   "execution_count": 14,
   "metadata": {},
   "outputs": [
    {
     "name": "stdout",
     "output_type": "stream",
     "text": [
      "+------------------+----------+--------------+---------+------------+-------------------+----------------+--------------+-----------------------------------------------------------------+----------------+\n",
      "|FCCURP            |FCRFC     |FCNOMBRES     |FCPATERNO|FCMATERNO   |FDFECHANACIMIENTO  |FCEDO_19        |FCLOC_19      |FCCOL_19                                                         |FCULT_EDO_RES   |\n",
      "+------------------+----------+--------------+---------+------------+-------------------+----------------+--------------+-----------------------------------------------------------------+----------------+\n",
      "|AUFE460815MDFGRG09|AUFE460815|MARIA EUGENI  |AGUILERA |FRANCO      |15/08/1946 00:00:00|-               |-             |XY_LOCALIDAD                                                     |CIUDAD DE MEXICO|\n",
      "|AUHA730417MDFLRN12|AUHA730417|MARIA ANGELICA|ALQUICIRA|HERNANDEZ   |17/04/1973 00:00:00|CIUDAD DE MEXICO|Coyoacán      |EJIDO VIEJO SANTA URSULA COAPA(VIEJO EJIDO DE SANTA URSULA COAPA)|CIUDAD DE MEXICO|\n",
      "|AUMO660803HASGDM01|AUMO660803|OMAR          |AGUILAR  |MEDRANO     |03/08/1966 00:00:00|-               |-             |XY_LOCALIDAD                                                     |CIUDAD DE MEXICO|\n",
      "|AIDJ850601HDFRZS01|AIDJ850601|JESUS CARMEN  |ARIAS    |DIAZ DE LEON|01/06/1985 00:00:00|CIUDAD DE MEXICO|Álvaro Obregón|TORRES DE POTRERO                                                |CIUDAD DE MEXICO|\n",
      "|AUGG870813HNEBYB00|AUGG870813|GABRIEL       |AUBRY    |GAYON       |13/08/1987 00:00:00|-               |-             |XY_LOCALIDAD                                                     |CIUDAD DE MEXICO|\n",
      "+------------------+----------+--------------+---------+------------+-------------------+----------------+--------------+-----------------------------------------------------------------+----------------+\n",
      "only showing top 5 rows\n",
      "\n"
     ]
    }
   ],
   "source": [
    "df.show( 5, truncate = False )"
   ]
  },
  {
   "cell_type": "code",
   "execution_count": 15,
   "metadata": {},
   "outputs": [
    {
     "data": {
      "text/plain": [
       "DataFrame[FCCURP: string, FCRFC: string, FCNOMBRES: string, FCPATERNO: string, FCMATERNO: string, FDFECHANACIMIENTO: string, FCEDO_19: string, FCLOC_19: string, FCCOL_19: string, FCULT_EDO_RES: string]"
      ]
     },
     "execution_count": 15,
     "metadata": {},
     "output_type": "execute_result"
    }
   ],
   "source": [
    "df"
   ]
  },
  {
   "cell_type": "code",
   "execution_count": 16,
   "metadata": {},
   "outputs": [],
   "source": [
    "dfResendiz = df.where( \"FCPATERNO = 'RESENDIZ'\" ).select( \"FCCURP\", \"FCNOMBRES\", \"FCPATERNO\", \"FCMATERNO\", \"FCCOL_19\" )"
   ]
  },
  {
   "cell_type": "code",
   "execution_count": 17,
   "metadata": {},
   "outputs": [
    {
     "data": {
      "text/plain": [
       "13222"
      ]
     },
     "execution_count": 17,
     "metadata": {},
     "output_type": "execute_result"
    }
   ],
   "source": [
    "dfResendiz.count()"
   ]
  },
  {
   "cell_type": "code",
   "execution_count": 18,
   "metadata": {},
   "outputs": [
    {
     "name": "stdout",
     "output_type": "stream",
     "text": [
      "+------------------+----------------+---------+---------+------------------------------+\n",
      "|FCCURP            |FCNOMBRES       |FCPATERNO|FCMATERNO|FCCOL_19                      |\n",
      "+------------------+----------------+---------+---------+------------------------------+\n",
      "|REGS640422HDFSDT05|SOTERO          |RESENDIZ |GUDIÑO   |TETELPAN                      |\n",
      "|RECA910708MDFSSN01|ANA FABIOLA     |RESENDIZ |CASARIN  |RINCONADA COAPA 1A SECCION    |\n",
      "|RECM910708HDFSSG02|MIGUEL ALEJANDRO|RESENDIZ |CASARIN  |RINCONADA COAPA 1A SECCION    |\n",
      "|RECM480822MHGSLR06|MARGARITA       |RESENDIZ |CELAYA   |PORTALES NORTE                |\n",
      "|RETC610616MDFSRR03|CRISTINA        |RESENDIZ |TREJO    |TETELPAN                      |\n",
      "|REGJ470203HDFSVR07|JORGE           |RESENDIZ |GUEVARA  |REYNOSA TAMAULIPAS            |\n",
      "|RECD720909MDFSRM07|DOMIRUTH        |RESENDIZ |CRUZ     |PARAJE SAN JUAN JOYA          |\n",
      "|REMS890525MDFSNN09|SANDRA YESSICA  |RESENDIZ |MONTOYA  |TETELPAN                      |\n",
      "|REGL740906MDFSTR08|MARIA DE LOURDES|RESENDIZ |GUTIERREZ|TETELPAN                      |\n",
      "|REZM850802HMCSPG00|MIGUEL ANGEL    |RESENDIZ |ZAPIEN   |AGRICOLA PANTITLAN (PANTITLAN)|\n",
      "|REDA760531HDFSZD05|ADRIAN          |RESENDIZ |DIAZ     |TETELPAN                      |\n",
      "|REHY860809HDFSRN09|YONATAN LAZARO  |RESENDIZ |HERRERA  |SAN SALVADOR CUAUHTENCO       |\n",
      "|REML760819HDFSNS05|LUIS MARTIN     |RESENDIZ |MENDOZA  |TACUBA                        |\n",
      "|REHR760417HDFSRD00|RODOLFO         |RESENDIZ |HERRERA  |SAN SALVADOR CUAUHTENCO       |\n",
      "|RESM760720HDFSNR03|MARCO ANTONIO   |RESENDIZ |SANCHEZ  |XY_LOCALIDAD                  |\n",
      "|REMS531007HDFSRR09|SERGIO          |RESENDIZ |MARTINEZ |TETELPAN                      |\n",
      "|REPD931016MDFSRN03|DIANA           |RESENDIZ |PEREZ    |SAN NICOLAS TOLENTINO         |\n",
      "|REMI641118MMCSRS09|MARIA ISABEL    |RESENDIZ |MARTINEZ |AGRICOLA PANTITLAN (PANTITLAN)|\n",
      "|REML850923MDFSRL01|LILIA MERCEDES  |RESENDIZ |MARTINEZ |EL ARENAL PUERTO AEREO        |\n",
      "|REFS740220MDFSRN08|SANDRA          |RESENDIZ |FERNANDEZ|SAN SALVADOR CUAUHTENCO       |\n",
      "|REFA770418HQTSRL08|ALFREDO         |RESENDIZ |FERNANDEZ|SANTA CECILIA TEPETLAPA       |\n",
      "|-                 |LAZARO          |RESENDIZ |GONZALEZ |SAN SALVADOR CUAUHTENCO       |\n",
      "|RESA690506MDFSLL05|MARIA ALICIA    |RESENDIZ |SILVA    |LEYES DE REFORMA 3A SECCION   |\n",
      "|REEJ360721MDFSSN06|JUANA           |RESENDIZ |ESPINOZA |TETELPAN                      |\n",
      "|REBD860507MDFSNN06|DIANA BERENICE  |RESENDIZ |BANDALA  |LA ARA0A                      |\n",
      "|RERM920126MMCSSR06|MARLEN          |RESENDIZ |RESENDIZ |EL ROSARIO                    |\n",
      "|REOK920507HDFSLL09|KALED           |RESENDIZ |OLGUIN   |SANTA BARBARA                 |\n",
      "|REBM940829HDFSNS04|MOISES SALVADOR |RESENDIZ |BANDALA  |ZOTOLTITLA                    |\n",
      "|REVL521213MDFSGC02|LUCIA           |RESENDIZ |VEGA     |ZOTOLTITLA                    |\n",
      "|REMC820329MDFSRY05|CYNTHIA         |RESENDIZ |MARTINEZ |UN HOGAR PARA NOSOTROS        |\n",
      "+------------------+----------------+---------+---------+------------------------------+\n",
      "only showing top 30 rows\n",
      "\n"
     ]
    }
   ],
   "source": [
    "dfResendiz.show( 30, truncate = False )"
   ]
  },
  {
   "cell_type": "code",
   "execution_count": 19,
   "metadata": {},
   "outputs": [
    {
     "data": {
      "text/html": [
       "<div>\n",
       "<style scoped>\n",
       "    .dataframe tbody tr th:only-of-type {\n",
       "        vertical-align: middle;\n",
       "    }\n",
       "\n",
       "    .dataframe tbody tr th {\n",
       "        vertical-align: top;\n",
       "    }\n",
       "\n",
       "    .dataframe thead th {\n",
       "        text-align: right;\n",
       "    }\n",
       "</style>\n",
       "<table border=\"1\" class=\"dataframe\">\n",
       "  <thead>\n",
       "    <tr style=\"text-align: right;\">\n",
       "      <th></th>\n",
       "      <th>FCCURP</th>\n",
       "      <th>FCNOMBRES</th>\n",
       "      <th>FCPATERNO</th>\n",
       "      <th>FCMATERNO</th>\n",
       "      <th>FCCOL_19</th>\n",
       "    </tr>\n",
       "  </thead>\n",
       "  <tbody>\n",
       "    <tr>\n",
       "      <th>0</th>\n",
       "      <td>REGS640422HDFSDT05</td>\n",
       "      <td>SOTERO</td>\n",
       "      <td>RESENDIZ</td>\n",
       "      <td>GUDIÑO</td>\n",
       "      <td>TETELPAN</td>\n",
       "    </tr>\n",
       "    <tr>\n",
       "      <th>1</th>\n",
       "      <td>RECA910708MDFSSN01</td>\n",
       "      <td>ANA FABIOLA</td>\n",
       "      <td>RESENDIZ</td>\n",
       "      <td>CASARIN</td>\n",
       "      <td>RINCONADA COAPA 1A SECCION</td>\n",
       "    </tr>\n",
       "    <tr>\n",
       "      <th>2</th>\n",
       "      <td>RECM910708HDFSSG02</td>\n",
       "      <td>MIGUEL ALEJANDRO</td>\n",
       "      <td>RESENDIZ</td>\n",
       "      <td>CASARIN</td>\n",
       "      <td>RINCONADA COAPA 1A SECCION</td>\n",
       "    </tr>\n",
       "    <tr>\n",
       "      <th>3</th>\n",
       "      <td>RECM480822MHGSLR06</td>\n",
       "      <td>MARGARITA</td>\n",
       "      <td>RESENDIZ</td>\n",
       "      <td>CELAYA</td>\n",
       "      <td>PORTALES NORTE</td>\n",
       "    </tr>\n",
       "    <tr>\n",
       "      <th>4</th>\n",
       "      <td>RETC610616MDFSRR03</td>\n",
       "      <td>CRISTINA</td>\n",
       "      <td>RESENDIZ</td>\n",
       "      <td>TREJO</td>\n",
       "      <td>TETELPAN</td>\n",
       "    </tr>\n",
       "    <tr>\n",
       "      <th>...</th>\n",
       "      <td>...</td>\n",
       "      <td>...</td>\n",
       "      <td>...</td>\n",
       "      <td>...</td>\n",
       "      <td>...</td>\n",
       "    </tr>\n",
       "    <tr>\n",
       "      <th>13217</th>\n",
       "      <td>-</td>\n",
       "      <td>LUIS ANTONIO</td>\n",
       "      <td>RESENDIZ</td>\n",
       "      <td>ZARATE</td>\n",
       "      <td>-</td>\n",
       "    </tr>\n",
       "    <tr>\n",
       "      <th>13218</th>\n",
       "      <td>-</td>\n",
       "      <td>JESUS</td>\n",
       "      <td>RESENDIZ</td>\n",
       "      <td>ZARAZUA</td>\n",
       "      <td>-</td>\n",
       "    </tr>\n",
       "    <tr>\n",
       "      <th>13219</th>\n",
       "      <td>-</td>\n",
       "      <td>CRUZ</td>\n",
       "      <td>RESENDIZ</td>\n",
       "      <td>ZENIL</td>\n",
       "      <td>-</td>\n",
       "    </tr>\n",
       "    <tr>\n",
       "      <th>13220</th>\n",
       "      <td>-</td>\n",
       "      <td>MARIA</td>\n",
       "      <td>RESENDIZ</td>\n",
       "      <td>ZU\\IGA</td>\n",
       "      <td>-</td>\n",
       "    </tr>\n",
       "    <tr>\n",
       "      <th>13221</th>\n",
       "      <td>-</td>\n",
       "      <td>MARIA LIBUBINA</td>\n",
       "      <td>RESENDIZ</td>\n",
       "      <td>ZU\\IGA</td>\n",
       "      <td>-</td>\n",
       "    </tr>\n",
       "  </tbody>\n",
       "</table>\n",
       "<p>13222 rows × 5 columns</p>\n",
       "</div>"
      ],
      "text/plain": [
       "                   FCCURP         FCNOMBRES FCPATERNO FCMATERNO  \\\n",
       "0      REGS640422HDFSDT05            SOTERO  RESENDIZ    GUDIÑO   \n",
       "1      RECA910708MDFSSN01       ANA FABIOLA  RESENDIZ   CASARIN   \n",
       "2      RECM910708HDFSSG02  MIGUEL ALEJANDRO  RESENDIZ   CASARIN   \n",
       "3      RECM480822MHGSLR06         MARGARITA  RESENDIZ    CELAYA   \n",
       "4      RETC610616MDFSRR03          CRISTINA  RESENDIZ     TREJO   \n",
       "...                   ...               ...       ...       ...   \n",
       "13217                   -      LUIS ANTONIO  RESENDIZ    ZARATE   \n",
       "13218                   -             JESUS  RESENDIZ   ZARAZUA   \n",
       "13219                   -              CRUZ  RESENDIZ     ZENIL   \n",
       "13220                   -             MARIA  RESENDIZ    ZU\\IGA   \n",
       "13221                   -    MARIA LIBUBINA  RESENDIZ    ZU\\IGA   \n",
       "\n",
       "                         FCCOL_19  \n",
       "0                        TETELPAN  \n",
       "1      RINCONADA COAPA 1A SECCION  \n",
       "2      RINCONADA COAPA 1A SECCION  \n",
       "3                  PORTALES NORTE  \n",
       "4                        TETELPAN  \n",
       "...                           ...  \n",
       "13217                           -  \n",
       "13218                           -  \n",
       "13219                           -  \n",
       "13220                           -  \n",
       "13221                           -  \n",
       "\n",
       "[13222 rows x 5 columns]"
      ]
     },
     "execution_count": 19,
     "metadata": {},
     "output_type": "execute_result"
    }
   ],
   "source": [
    "dsResendiz = dfResendiz.toPandas()\n",
    "dsResendiz"
   ]
  },
  {
   "cell_type": "code",
   "execution_count": 20,
   "metadata": {},
   "outputs": [],
   "source": [
    "dsResendiz.to_csv( \"C:/Users/chief/Documents/ResendizDF.CSV\", index=False, sep=\"~\" )"
   ]
  }
 ],
 "metadata": {
  "kernelspec": {
   "display_name": "Python 3",
   "language": "python",
   "name": "python3"
  },
  "language_info": {
   "codemirror_mode": {
    "name": "ipython",
    "version": 3
   },
   "file_extension": ".py",
   "mimetype": "text/x-python",
   "name": "python",
   "nbconvert_exporter": "python",
   "pygments_lexer": "ipython3",
   "version": "3.9.6"
  },
  "vscode": {
   "interpreter": {
    "hash": "8c6bb2d6a01b3997e975073c25954c4ce3af0c8de492e7aecf329a6e98298de9"
   }
  }
 },
 "nbformat": 4,
 "nbformat_minor": 4
}
