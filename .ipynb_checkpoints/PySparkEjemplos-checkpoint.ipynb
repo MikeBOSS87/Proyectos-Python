{
 "cells": [
  {
   "cell_type": "code",
   "execution_count": 1,
   "metadata": {},
   "outputs": [
    {
     "name": "stdout",
     "output_type": "stream",
     "text": [
      "Requirement already satisfied: pyspark in c:\\programdata\\anaconda3\\lib\\site-packages (3.3.1)\n",
      "Requirement already satisfied: findspark in c:\\programdata\\anaconda3\\lib\\site-packages (2.0.1)\n",
      "Requirement already satisfied: pandas in c:\\programdata\\anaconda3\\lib\\site-packages (1.1.3)\n",
      "Requirement already satisfied: py4j==0.10.9.5 in c:\\programdata\\anaconda3\\lib\\site-packages (from pyspark) (0.10.9.5)\n",
      "Requirement already satisfied: pytz>=2017.2 in c:\\programdata\\anaconda3\\lib\\site-packages (from pandas) (2020.1)\n",
      "Requirement already satisfied: numpy>=1.15.4 in c:\\programdata\\anaconda3\\lib\\site-packages (from pandas) (1.19.2)\n",
      "Requirement already satisfied: python-dateutil>=2.7.3 in c:\\programdata\\anaconda3\\lib\\site-packages (from pandas) (2.8.1)\n",
      "Requirement already satisfied: six>=1.5 in c:\\programdata\\anaconda3\\lib\\site-packages (from python-dateutil>=2.7.3->pandas) (1.15.0)\n",
      "Note: you may need to restart the kernel to use updated packages.\n"
     ]
    }
   ],
   "source": [
    "pip install pyspark findspark pandas"
   ]
  },
  {
   "cell_type": "code",
   "execution_count": 2,
   "metadata": {},
   "outputs": [],
   "source": [
    "import findspark "
   ]
  },
  {
   "cell_type": "code",
   "execution_count": 3,
   "metadata": {},
   "outputs": [],
   "source": [
    "from pyspark.sql import SparkSession"
   ]
  },
  {
   "cell_type": "code",
   "execution_count": 4,
   "metadata": {},
   "outputs": [],
   "source": [
    "findspark.init() ;\n",
    "spk = SparkSession.builder.appName( \"PoblacionDF\" )\\\n",
    "    .config( \"spark.master\", \"local[4]\" )\\\n",
    "    .config( \"spark.shuffle.sql.partitions\", 2 )\\\n",
    "    .config( \"org.apache.spark.sql.csv\" )\\\n",
    "    .getOrCreate()"
   ]
  },
  {
   "cell_type": "code",
   "execution_count": 5,
   "metadata": {},
   "outputs": [
    {
     "data": {
      "text/html": [
       "\n",
       "            <div>\n",
       "                <p><b>SparkSession - in-memory</b></p>\n",
       "                \n",
       "        <div>\n",
       "            <p><b>SparkContext</b></p>\n",
       "\n",
       "            <p><a href=\"http://MDRG-EIA3CSOU:4040\">Spark UI</a></p>\n",
       "\n",
       "            <dl>\n",
       "              <dt>Version</dt>\n",
       "                <dd><code>v3.3.1</code></dd>\n",
       "              <dt>Master</dt>\n",
       "                <dd><code>local[4]</code></dd>\n",
       "              <dt>AppName</dt>\n",
       "                <dd><code>PoblacionDF</code></dd>\n",
       "            </dl>\n",
       "        </div>\n",
       "        \n",
       "            </div>\n",
       "        "
      ],
      "text/plain": [
       "<pyspark.sql.session.SparkSession at 0x22470c64d90>"
      ]
     },
     "execution_count": 5,
     "metadata": {},
     "output_type": "execute_result"
    }
   ],
   "source": [
    "spk"
   ]
  },
  {
   "cell_type": "code",
   "execution_count": 6,
   "metadata": {},
   "outputs": [
    {
     "data": {
      "text/plain": [
       "'2'"
      ]
     },
     "execution_count": 6,
     "metadata": {},
     "output_type": "execute_result"
    }
   ],
   "source": [
    "spk.conf.get( 'spark.shuffle.sql.partitions' )\n",
    "#spk.conf.set( 'spark.shuffle.sql.partitions', 4 )"
   ]
  },
  {
   "cell_type": "code",
   "execution_count": 8,
   "metadata": {},
   "outputs": [
    {
     "name": "stdout",
     "output_type": "stream",
     "text": [
      "root\n",
      " |-- FCCURP: string (nullable = true)\n",
      " |-- FCRFC: string (nullable = true)\n",
      " |-- FCNOMBRES: string (nullable = true)\n",
      " |-- FCPATERNO: string (nullable = true)\n",
      " |-- FCMATERNO: string (nullable = true)\n",
      " |-- FDFECHANACIMIENTO: string (nullable = true)\n",
      " |-- FCEDO_19: string (nullable = true)\n",
      " |-- FCLOC_19: string (nullable = true)\n",
      " |-- FCCOL_19: string (nullable = true)\n",
      " |-- FCULT_EDO_RES: string (nullable = true)\n",
      "\n"
     ]
    }
   ],
   "source": [
    "df = spk.read.csv( \"C:/Users/chief/Documents/POBLACION_DF.csv\", sep = \"|\", header = True )\n",
    "df.printSchema()"
   ]
  },
  {
   "cell_type": "code",
   "execution_count": 9,
   "metadata": {},
   "outputs": [
    {
     "data": {
      "text/plain": [
       "9164959"
      ]
     },
     "execution_count": 9,
     "metadata": {},
     "output_type": "execute_result"
    }
   ],
   "source": [
    "df.count()"
   ]
  },
  {
   "cell_type": "code",
   "execution_count": 10,
   "metadata": {},
   "outputs": [
    {
     "data": {
      "text/plain": [
       "['FCCURP',\n",
       " 'FCRFC',\n",
       " 'FCNOMBRES',\n",
       " 'FCPATERNO',\n",
       " 'FCMATERNO',\n",
       " 'FDFECHANACIMIENTO',\n",
       " 'FCEDO_19',\n",
       " 'FCLOC_19',\n",
       " 'FCCOL_19',\n",
       " 'FCULT_EDO_RES']"
      ]
     },
     "execution_count": 10,
     "metadata": {},
     "output_type": "execute_result"
    }
   ],
   "source": [
    "df.columns"
   ]
  },
  {
   "cell_type": "code",
   "execution_count": 11,
   "metadata": {},
   "outputs": [
    {
     "name": "stdout",
     "output_type": "stream",
     "text": [
      "+------------------+----------+--------------+---------+------------+-------------------+----------------+--------------+-----------------------------------------------------------------+----------------+\n",
      "|FCCURP            |FCRFC     |FCNOMBRES     |FCPATERNO|FCMATERNO   |FDFECHANACIMIENTO  |FCEDO_19        |FCLOC_19      |FCCOL_19                                                         |FCULT_EDO_RES   |\n",
      "+------------------+----------+--------------+---------+------------+-------------------+----------------+--------------+-----------------------------------------------------------------+----------------+\n",
      "|AUFE460815MDFGRG09|AUFE460815|MARIA EUGENI  |AGUILERA |FRANCO      |15/08/1946 00:00:00|-               |-             |XY_LOCALIDAD                                                     |CIUDAD DE MEXICO|\n",
      "|AUHA730417MDFLRN12|AUHA730417|MARIA ANGELICA|ALQUICIRA|HERNANDEZ   |17/04/1973 00:00:00|CIUDAD DE MEXICO|Coyoac�n      |EJIDO VIEJO SANTA URSULA COAPA(VIEJO EJIDO DE SANTA URSULA COAPA)|CIUDAD DE MEXICO|\n",
      "|AUMO660803HASGDM01|AUMO660803|OMAR          |AGUILAR  |MEDRANO     |03/08/1966 00:00:00|-               |-             |XY_LOCALIDAD                                                     |CIUDAD DE MEXICO|\n",
      "|AIDJ850601HDFRZS01|AIDJ850601|JESUS CARMEN  |ARIAS    |DIAZ DE LEON|01/06/1985 00:00:00|CIUDAD DE MEXICO|�lvaro Obreg�n|TORRES DE POTRERO                                                |CIUDAD DE MEXICO|\n",
      "|AUGG870813HNEBYB00|AUGG870813|GABRIEL       |AUBRY    |GAYON       |13/08/1987 00:00:00|-               |-             |XY_LOCALIDAD                                                     |CIUDAD DE MEXICO|\n",
      "+------------------+----------+--------------+---------+------------+-------------------+----------------+--------------+-----------------------------------------------------------------+----------------+\n",
      "only showing top 5 rows\n",
      "\n"
     ]
    }
   ],
   "source": [
    "df.show( 5, truncate = False )"
   ]
  },
  {
   "cell_type": "code",
   "execution_count": 12,
   "metadata": {},
   "outputs": [],
   "source": [
    "from pyspark.sql.types import StructType, StructField, IntegerType, StringType"
   ]
  },
  {
   "cell_type": "code",
   "execution_count": 13,
   "metadata": {},
   "outputs": [
    {
     "data": {
      "text/plain": [
       "DataFrame[FCCURP: string, FCRFC: string, FCNOMBRES: string, FCPATERNO: string, FCMATERNO: string, FDFECHANACIMIENTO: string, FCEDO_19: string, FCLOC_19: string, FCCOL_19: string, FCULT_EDO_RES: string]"
      ]
     },
     "execution_count": 13,
     "metadata": {},
     "output_type": "execute_result"
    }
   ],
   "source": [
    "df"
   ]
  },
  {
   "cell_type": "code",
   "execution_count": 14,
   "metadata": {},
   "outputs": [],
   "source": [
    "dfResendiz = df.where( \"FCPATERNO = 'RESENDIZ'\" )"
   ]
  },
  {
   "cell_type": "code",
   "execution_count": 15,
   "metadata": {},
   "outputs": [
    {
     "data": {
      "text/plain": [
       "13222"
      ]
     },
     "execution_count": 15,
     "metadata": {},
     "output_type": "execute_result"
    }
   ],
   "source": [
    "dfResendiz.count()"
   ]
  },
  {
   "cell_type": "code",
   "execution_count": 16,
   "metadata": {},
   "outputs": [
    {
     "name": "stdout",
     "output_type": "stream",
     "text": [
      "+------------------+----------+----------------+---------+---------+-------------------+----------------+-----------------------+------------------------------+----------------+\n",
      "|FCCURP            |FCRFC     |FCNOMBRES       |FCPATERNO|FCMATERNO|FDFECHANACIMIENTO  |FCEDO_19        |FCLOC_19               |FCCOL_19                      |FCULT_EDO_RES   |\n",
      "+------------------+----------+----------------+---------+---------+-------------------+----------------+-----------------------+------------------------------+----------------+\n",
      "|REGS640422HDFSDT05|REGS640422|SOTERO          |RESENDIZ |GUDI�O   |22/04/1964 00:00:00|CIUDAD DE MEXICO|�lvaro Obreg�n         |TETELPAN                      |CIUDAD DE MEXICO|\n",
      "|RECA910708MDFSSN01|RECA910708|ANA FABIOLA     |RESENDIZ |CASARIN  |08/07/1991 00:00:00|CIUDAD DE MEXICO|Tlalpan                |RINCONADA COAPA 1A SECCION    |CIUDAD DE MEXICO|\n",
      "|RECM910708HDFSSG02|RECM910708|MIGUEL ALEJANDRO|RESENDIZ |CASARIN  |08/07/1991 00:00:00|CIUDAD DE MEXICO|Tlalpan                |RINCONADA COAPA 1A SECCION    |CIUDAD DE MEXICO|\n",
      "|RECM480822MHGSLR06|RECM480822|MARGARITA       |RESENDIZ |CELAYA   |22/08/1948 00:00:00|CIUDAD DE MEXICO|Benito Ju�rez          |PORTALES NORTE                |CIUDAD DE MEXICO|\n",
      "|RETC610616MDFSRR03|RETC610616|CRISTINA        |RESENDIZ |TREJO    |16/06/1961 00:00:00|CIUDAD DE MEXICO|�lvaro Obreg�n         |TETELPAN                      |CIUDAD DE MEXICO|\n",
      "|REGJ470203HDFSVR07|REGJ470203|JORGE           |RESENDIZ |GUEVARA  |03/02/1947 00:00:00|CIUDAD DE MEXICO|Azcapotzalco           |REYNOSA TAMAULIPAS            |CIUDAD DE MEXICO|\n",
      "|RECD720909MDFSRM07|RECD720909|DOMIRUTH        |RESENDIZ |CRUZ     |09/09/1972 00:00:00|CIUDAD DE MEXICO|Iztapalapa             |PARAJE SAN JUAN JOYA          |CIUDAD DE MEXICO|\n",
      "|REMS890525MDFSNN09|REMS890525|SANDRA YESSICA  |RESENDIZ |MONTOYA  |25/05/1989 00:00:00|CIUDAD DE MEXICO|�lvaro Obreg�n         |TETELPAN                      |CIUDAD DE MEXICO|\n",
      "|REGL740906MDFSTR08|REGL740906|MARIA DE LOURDES|RESENDIZ |GUTIERREZ|06/09/1974 00:00:00|CIUDAD DE MEXICO|�lvaro Obreg�n         |TETELPAN                      |CIUDAD DE MEXICO|\n",
      "|REZM850802HMCSPG00|REZM850802|MIGUEL ANGEL    |RESENDIZ |ZAPIEN   |02/08/1985 00:00:00|CIUDAD DE MEXICO|Iztacalco              |AGRICOLA PANTITLAN (PANTITLAN)|CIUDAD DE MEXICO|\n",
      "|REDA760531HDFSZD05|REDA760531|ADRIAN          |RESENDIZ |DIAZ     |31/05/1976 00:00:00|CIUDAD DE MEXICO|�lvaro Obreg�n         |TETELPAN                      |CIUDAD DE MEXICO|\n",
      "|REHY860809HDFSRN09|REHY860809|YONATAN LAZARO  |RESENDIZ |HERRERA  |09/08/1986 00:00:00|CIUDAD DE MEXICO|San Salvador Cuauhtenco|SAN SALVADOR CUAUHTENCO       |CIUDAD DE MEXICO|\n",
      "|REML760819HDFSNS05|REML760819|LUIS MARTIN     |RESENDIZ |MENDOZA  |19/08/1976 00:00:00|CIUDAD DE MEXICO|Miguel Hidalgo         |TACUBA                        |CIUDAD DE MEXICO|\n",
      "|REHR760417HDFSRD00|REHR760417|RODOLFO         |RESENDIZ |HERRERA  |17/04/1976 00:00:00|CIUDAD DE MEXICO|San Salvador Cuauhtenco|SAN SALVADOR CUAUHTENCO       |CIUDAD DE MEXICO|\n",
      "|RESM760720HDFSNR03|RESM760720|MARCO ANTONIO   |RESENDIZ |SANCHEZ  |20/07/1976 00:00:00|-               |-                      |XY_LOCALIDAD                  |CIUDAD DE MEXICO|\n",
      "+------------------+----------+----------------+---------+---------+-------------------+----------------+-----------------------+------------------------------+----------------+\n",
      "only showing top 15 rows\n",
      "\n"
     ]
    }
   ],
   "source": [
    "dfResendiz.show( 15, truncate = False )"
   ]
  },
  {
   "cell_type": "code",
   "execution_count": null,
   "metadata": {},
   "outputs": [],
   "source": []
  }
 ],
 "metadata": {
  "kernelspec": {
   "display_name": "Python 3",
   "language": "python",
   "name": "python3"
  },
  "language_info": {
   "codemirror_mode": {
    "name": "ipython",
    "version": 3
   },
   "file_extension": ".py",
   "mimetype": "text/x-python",
   "name": "python",
   "nbconvert_exporter": "python",
   "pygments_lexer": "ipython3",
   "version": "3.8.5"
  },
  "vscode": {
   "interpreter": {
    "hash": "8c6bb2d6a01b3997e975073c25954c4ce3af0c8de492e7aecf329a6e98298de9"
   }
  }
 },
 "nbformat": 4,
 "nbformat_minor": 4
}
