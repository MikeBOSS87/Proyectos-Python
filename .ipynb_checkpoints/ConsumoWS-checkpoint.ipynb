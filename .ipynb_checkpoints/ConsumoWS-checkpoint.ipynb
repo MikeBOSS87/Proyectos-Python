{
 "cells": [
  {
   "cell_type": "code",
   "execution_count": 9,
   "metadata": {},
   "outputs": [],
   "source": [
    "import requests\n",
    "import pandas as db"
   ]
  },
  {
   "cell_type": "code",
   "execution_count": 10,
   "metadata": {},
   "outputs": [],
   "source": [
    "respuesta_servicio = requests.get( \"https://api.bitso.com/v3/trades/?book=btc_mxn\" )\n",
    "json_respuesta = respuesta_servicio.json()"
   ]
  },
  {
   "cell_type": "code",
   "execution_count": 11,
   "metadata": {},
   "outputs": [],
   "source": [
    "BTCMXN_bitso = json_respuesta[ \"payload\" ]"
   ]
  },
  {
   "cell_type": "code",
   "execution_count": 12,
   "metadata": {},
   "outputs": [],
   "source": [
    "grid_BTCMXN_bitso = db.DataFrame( BTCMXN_bitso )"
   ]
  },
  {
   "cell_type": "code",
   "execution_count": 13,
   "metadata": {},
   "outputs": [
    {
     "data": {
      "text/html": [
       "<div>\n",
       "<style scoped>\n",
       "    .dataframe tbody tr th:only-of-type {\n",
       "        vertical-align: middle;\n",
       "    }\n",
       "\n",
       "    .dataframe tbody tr th {\n",
       "        vertical-align: top;\n",
       "    }\n",
       "\n",
       "    .dataframe thead th {\n",
       "        text-align: right;\n",
       "    }\n",
       "</style>\n",
       "<table border=\"1\" class=\"dataframe\">\n",
       "  <thead>\n",
       "    <tr style=\"text-align: right;\">\n",
       "      <th></th>\n",
       "      <th>book</th>\n",
       "      <th>created_at</th>\n",
       "      <th>amount</th>\n",
       "      <th>maker_side</th>\n",
       "      <th>price</th>\n",
       "      <th>tid</th>\n",
       "    </tr>\n",
       "  </thead>\n",
       "  <tbody>\n",
       "    <tr>\n",
       "      <th>0</th>\n",
       "      <td>btc_mxn</td>\n",
       "      <td>2022-11-23T06:02:18+0000</td>\n",
       "      <td>0.00086798</td>\n",
       "      <td>sell</td>\n",
       "      <td>319130</td>\n",
       "      <td>84469423</td>\n",
       "    </tr>\n",
       "    <tr>\n",
       "      <th>1</th>\n",
       "      <td>btc_mxn</td>\n",
       "      <td>2022-11-23T06:02:11+0000</td>\n",
       "      <td>0.03472266</td>\n",
       "      <td>buy</td>\n",
       "      <td>318800</td>\n",
       "      <td>84469422</td>\n",
       "    </tr>\n",
       "    <tr>\n",
       "      <th>2</th>\n",
       "      <td>btc_mxn</td>\n",
       "      <td>2022-11-23T06:02:11+0000</td>\n",
       "      <td>0.00154000</td>\n",
       "      <td>buy</td>\n",
       "      <td>319030</td>\n",
       "      <td>84469421</td>\n",
       "    </tr>\n",
       "    <tr>\n",
       "      <th>3</th>\n",
       "      <td>btc_mxn</td>\n",
       "      <td>2022-11-23T06:02:04+0000</td>\n",
       "      <td>0.00626566</td>\n",
       "      <td>sell</td>\n",
       "      <td>319200</td>\n",
       "      <td>84469412</td>\n",
       "    </tr>\n",
       "    <tr>\n",
       "      <th>4</th>\n",
       "      <td>btc_mxn</td>\n",
       "      <td>2022-11-23T06:01:38+0000</td>\n",
       "      <td>0.00026629</td>\n",
       "      <td>sell</td>\n",
       "      <td>319200</td>\n",
       "      <td>84469408</td>\n",
       "    </tr>\n",
       "    <tr>\n",
       "      <th>...</th>\n",
       "      <td>...</td>\n",
       "      <td>...</td>\n",
       "      <td>...</td>\n",
       "      <td>...</td>\n",
       "      <td>...</td>\n",
       "      <td>...</td>\n",
       "    </tr>\n",
       "    <tr>\n",
       "      <th>95</th>\n",
       "      <td>btc_mxn</td>\n",
       "      <td>2022-11-23T05:37:00+0000</td>\n",
       "      <td>0.00597640</td>\n",
       "      <td>buy</td>\n",
       "      <td>319480</td>\n",
       "      <td>84468680</td>\n",
       "    </tr>\n",
       "    <tr>\n",
       "      <th>96</th>\n",
       "      <td>btc_mxn</td>\n",
       "      <td>2022-11-23T05:37:00+0000</td>\n",
       "      <td>0.06251205</td>\n",
       "      <td>buy</td>\n",
       "      <td>319500</td>\n",
       "      <td>84468679</td>\n",
       "    </tr>\n",
       "    <tr>\n",
       "      <th>97</th>\n",
       "      <td>btc_mxn</td>\n",
       "      <td>2022-11-23T05:36:58+0000</td>\n",
       "      <td>0.00625743</td>\n",
       "      <td>sell</td>\n",
       "      <td>319620</td>\n",
       "      <td>84468678</td>\n",
       "    </tr>\n",
       "    <tr>\n",
       "      <th>98</th>\n",
       "      <td>btc_mxn</td>\n",
       "      <td>2022-11-23T05:36:57+0000</td>\n",
       "      <td>0.00011731</td>\n",
       "      <td>sell</td>\n",
       "      <td>319620</td>\n",
       "      <td>84468677</td>\n",
       "    </tr>\n",
       "    <tr>\n",
       "      <th>99</th>\n",
       "      <td>btc_mxn</td>\n",
       "      <td>2022-11-23T05:36:34+0000</td>\n",
       "      <td>0.00013466</td>\n",
       "      <td>sell</td>\n",
       "      <td>319610</td>\n",
       "      <td>84468671</td>\n",
       "    </tr>\n",
       "  </tbody>\n",
       "</table>\n",
       "<p>100 rows × 6 columns</p>\n",
       "</div>"
      ],
      "text/plain": [
       "       book                created_at      amount maker_side   price       tid\n",
       "0   btc_mxn  2022-11-23T06:02:18+0000  0.00086798       sell  319130  84469423\n",
       "1   btc_mxn  2022-11-23T06:02:11+0000  0.03472266        buy  318800  84469422\n",
       "2   btc_mxn  2022-11-23T06:02:11+0000  0.00154000        buy  319030  84469421\n",
       "3   btc_mxn  2022-11-23T06:02:04+0000  0.00626566       sell  319200  84469412\n",
       "4   btc_mxn  2022-11-23T06:01:38+0000  0.00026629       sell  319200  84469408\n",
       "..      ...                       ...         ...        ...     ...       ...\n",
       "95  btc_mxn  2022-11-23T05:37:00+0000  0.00597640        buy  319480  84468680\n",
       "96  btc_mxn  2022-11-23T05:37:00+0000  0.06251205        buy  319500  84468679\n",
       "97  btc_mxn  2022-11-23T05:36:58+0000  0.00625743       sell  319620  84468678\n",
       "98  btc_mxn  2022-11-23T05:36:57+0000  0.00011731       sell  319620  84468677\n",
       "99  btc_mxn  2022-11-23T05:36:34+0000  0.00013466       sell  319610  84468671\n",
       "\n",
       "[100 rows x 6 columns]"
      ]
     },
     "execution_count": 13,
     "metadata": {},
     "output_type": "execute_result"
    }
   ],
   "source": [
    "grid_BTCMXN_bitso"
   ]
  },
  {
   "cell_type": "code",
   "execution_count": 14,
   "metadata": {},
   "outputs": [],
   "source": [
    "grid_BTCMXN_bitso.to_csv( \"Datos010620220605.CSV\", index = False )"
   ]
  },
  {
   "cell_type": "code",
   "execution_count": null,
   "metadata": {},
   "outputs": [],
   "source": []
  },
  {
   "cell_type": "code",
   "execution_count": null,
   "metadata": {},
   "outputs": [],
   "source": []
  },
  {
   "cell_type": "code",
   "execution_count": null,
   "metadata": {},
   "outputs": [],
   "source": []
  },
  {
   "cell_type": "code",
   "execution_count": null,
   "metadata": {},
   "outputs": [],
   "source": []
  },
  {
   "cell_type": "code",
   "execution_count": null,
   "metadata": {},
   "outputs": [],
   "source": []
  },
  {
   "cell_type": "code",
   "execution_count": null,
   "metadata": {},
   "outputs": [],
   "source": []
  },
  {
   "cell_type": "code",
   "execution_count": null,
   "metadata": {},
   "outputs": [],
   "source": []
  },
  {
   "cell_type": "code",
   "execution_count": null,
   "metadata": {},
   "outputs": [],
   "source": []
  }
 ],
 "metadata": {
  "kernelspec": {
   "display_name": "Python 3",
   "language": "python",
   "name": "python3"
  },
  "language_info": {
   "codemirror_mode": {
    "name": "ipython",
    "version": 3
   },
   "file_extension": ".py",
   "mimetype": "text/x-python",
   "name": "python",
   "nbconvert_exporter": "python",
   "pygments_lexer": "ipython3",
   "version": "3.8.5"
  }
 },
 "nbformat": 4,
 "nbformat_minor": 4
}
